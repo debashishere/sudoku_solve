{
 "cells": [
  {
   "cell_type": "markdown",
   "metadata": {},
   "source": [
    "# Sudoku with back tracking \n",
    "Soduku contain 3 sub grid if root(9) X root(9)"
   ]
  },
  {
   "cell_type": "code",
   "execution_count": null,
   "metadata": {},
   "outputs": [],
   "source": [
    "# Tutorial link :- https://techwithtim.net/tutorials/python-programming/sudoku-solver-backtracking/\n",
    "# https://www.youtube.com/watch?v=lK4N8E6uNr4"
   ]
  },
  {
   "cell_type": "code",
   "execution_count": 1,
   "metadata": {},
   "outputs": [],
   "source": [
    "# To solve maximum recursion depth exceeded in comparison error\n",
    "import sys\n",
    "sys.setrecursionlimit(1500)"
   ]
  },
  {
   "cell_type": "code",
   "execution_count": 2,
   "metadata": {},
   "outputs": [],
   "source": [
    "# Define the Board\n",
    "\n",
    "board = [\n",
    "       [7, 8, 0, 4, 0, 0, 1, 2, 0],\n",
    "       [6, 0, 0, 0, 7, 5, 0, 0, 9],\n",
    "       [0, 0, 0, 6, 0, 1, 0, 7, 8],\n",
    "       [0, 0, 7, 0, 4, 0, 2, 6, 0],\n",
    "       [0, 0, 1, 0, 5, 0, 9, 3, 0],\n",
    "       [9, 0, 4, 0, 6, 0, 0, 0, 5],\n",
    "       [0, 7, 0, 3, 0, 0, 0, 1, 2],\n",
    "       [1, 2, 0, 0, 0, 7, 4, 0, 0],\n",
    "       [0, 4, 9, 2, 0, 6, 0, 0, 7]\n",
    "]            "
   ]
  },
  {
   "cell_type": "code",
   "execution_count": 3,
   "metadata": {},
   "outputs": [
    {
     "name": "stdout",
     "output_type": "stream",
     "text": [
      "7 8 0  | 4 0 0  | 1 2 0\n",
      "6 0 0  | 0 7 5  | 0 0 9\n",
      "0 0 0  | 6 0 1  | 0 7 8\n",
      "- - - - - - - - - - - - \n",
      "0 0 7  | 0 4 0  | 2 6 0\n",
      "0 0 1  | 0 5 0  | 9 3 0\n",
      "9 0 4  | 0 6 0  | 0 0 5\n",
      "- - - - - - - - - - - - \n",
      "0 7 0  | 3 0 0  | 0 1 2\n",
      "1 2 0  | 0 0 7  | 4 0 0\n",
      "0 4 9  | 2 0 6  | 0 0 7\n"
     ]
    }
   ],
   "source": [
    "# Function to print the board\n",
    "\n",
    "def print_board(board) :\n",
    "    for i in range(len(board)) :\n",
    "        if i % 3 == 0 and i != 0 :\n",
    "            print('- - - - - - - - - - - - ')                             # printing dividing line on 4th and 7th row\n",
    "            \n",
    "        for j in range(len(board[0])) :\n",
    "            if j % 3 == 0 and j !=0 :\n",
    "                print(\" | \",end= \"\")                                        #printing on 3rd and 6th col\n",
    "                \n",
    "            if j == 8 :\n",
    "                print(board[i][j])\n",
    "            else :\n",
    "                 print(str(board[i][j]) + \" \", end = \"\")                    # print the element and wait\n",
    "                \n",
    "print_board(board)"
   ]
  },
  {
   "cell_type": "code",
   "execution_count": 4,
   "metadata": {},
   "outputs": [],
   "source": [
    "# function to check is the cell is empty\n",
    "\n",
    "def find_empty(board) :\n",
    "    for i in range(len(board)) :\n",
    "        for j in range(len(board[0])) :\n",
    "            if board[i][j] == 0:\n",
    "                return (i, j)                                              #  retuen Row and Column if empty cell is found       \n",
    "    return None   \n",
    "\n",
    "#returning none if no empty cell is found"
   ]
  },
  {
   "cell_type": "code",
   "execution_count": 5,
   "metadata": {},
   "outputs": [],
   "source": [
    "# Find if the Current Board is valid after entering the number\n",
    "\n",
    "def valid(board, num, pos) :\n",
    "     #check row\n",
    "    for i in range(len(board[0])) :\n",
    "        if board[pos[0]][i] == num and pos[1] != i :\n",
    "            return False\n",
    "        \n",
    "     # Check column   \n",
    "    for i in range(len(board)) :\n",
    "         if board[i][pos[1]]  == num and pos[0] != i :\n",
    "                return False\n",
    "    \n",
    "    # Check the Sub grid\n",
    "    \n",
    "    box_x = pos[1] // 3\n",
    "    box_y = pos[0] // 3\n",
    "    \n",
    "    for i in range(box_y*3, box_y*3 + 3) :\n",
    "        for j in range(box_x*3, box_x*3 + 3) :\n",
    "            if board[i][j] == num and (i,j) != pos :\n",
    "                return False\n",
    "    return True \n",
    "            "
   ]
  },
  {
   "cell_type": "code",
   "execution_count": 6,
   "metadata": {},
   "outputs": [],
   "source": [
    "# Use Above Method and Solve \n",
    "\n",
    "def solve(board) :\n",
    "    find = find_empty(board)    \n",
    "    \n",
    "    # Base Case (if NO cell is empty means board is solved)\n",
    "    if not find :  \n",
    "        return True\n",
    "    else :\n",
    "        row, col =find\n",
    "    \n",
    "    # if empty cell is found put rach number and check if the number is valid\n",
    "    \n",
    "    for i in range(1,10) :\n",
    "        if valid(board, i, (row, col)) :\n",
    "            board[row][col] = i\n",
    "            \n",
    "            if solve(board) :\n",
    "                return True\n",
    "            \n",
    "            board[row][col] = 0                              # recursive back and assign 0 to last assign cell\n",
    "            \n",
    "    # return False if not solved\n",
    "    return False"
   ]
  },
  {
   "cell_type": "code",
   "execution_count": 7,
   "metadata": {},
   "outputs": [
    {
     "name": "stdout",
     "output_type": "stream",
     "text": [
      "True\n",
      "7 8 5  | 4 3 9  | 1 2 6\n",
      "6 1 2  | 8 7 5  | 3 4 9\n",
      "4 9 3  | 6 2 1  | 5 7 8\n",
      "- - - - - - - - - - - - \n",
      "8 5 7  | 9 4 3  | 2 6 1\n",
      "2 6 1  | 7 5 8  | 9 3 4\n",
      "9 3 4  | 1 6 2  | 7 8 5\n",
      "- - - - - - - - - - - - \n",
      "5 7 8  | 3 9 4  | 6 1 2\n",
      "1 2 6  | 5 8 7  | 4 9 3\n",
      "3 4 9  | 2 1 6  | 8 5 7\n"
     ]
    }
   ],
   "source": [
    "solved_board = solve(board)\n",
    "print(solved_board)\n",
    "print_board(board)"
   ]
  },
  {
   "cell_type": "code",
   "execution_count": null,
   "metadata": {},
   "outputs": [],
   "source": []
  }
 ],
 "metadata": {
  "kernelspec": {
   "display_name": "Python 3",
   "language": "python",
   "name": "python3"
  },
  "language_info": {
   "codemirror_mode": {
    "name": "ipython",
    "version": 3
   },
   "file_extension": ".py",
   "mimetype": "text/x-python",
   "name": "python",
   "nbconvert_exporter": "python",
   "pygments_lexer": "ipython3",
   "version": "3.7.4"
  }
 },
 "nbformat": 4,
 "nbformat_minor": 2
}
